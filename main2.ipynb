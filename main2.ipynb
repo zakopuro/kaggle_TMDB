{
 "cells": [
  {
   "cell_type": "code",
   "execution_count": 107,
   "metadata": {},
   "outputs": [],
   "source": [
    "import numpy as np\n",
    "import pandas as pd\n",
    "import lightgbm as lgb\n",
    "import xgboost as xgb\n",
    "import matplotlib.pyplot as plt\n",
    "import seaborn as sns\n",
    "import sklearn\n",
    "from sklearn.preprocessing import LabelEncoder\n",
    "from sklearn.model_selection import train_test_split,GridSearchCV,KFold\n",
    "from sklearn.linear_model import LogisticRegression,Ridge\n",
    "from sklearn.metrics import mean_squared_log_error\n",
    "from sklearn.metrics import mean_squared_error\n",
    "from sklearn.preprocessing import StandardScaler\n",
    "from sklearn.svm import SVR\n",
    "import collections\n",
    "import json\n",
    "import math\n",
    "import ast\n",
    "import eli5"
   ]
  },
  {
   "cell_type": "code",
   "execution_count": 55,
   "metadata": {},
   "outputs": [],
   "source": [
    "TRAIN_PATH = \"/Users/zakopuro/Code/python_code/kaggle_TMDB/input/train.csv\"\n",
    "TEST_PATH = \"/Users/zakopuro/Code/python_code/kaggle_TMDB/input/test.csv\"\n",
    "\n",
    "df_train = pd.read_csv(TRAIN_PATH)\n",
    "df_test = pd.read_csv(TEST_PATH)"
   ]
  },
  {
   "cell_type": "code",
   "execution_count": 56,
   "metadata": {},
   "outputs": [],
   "source": [
    "dict_columns = ['belongs_to_collection', 'genres', 'production_companies',\n",
    "                'production_countries', 'spoken_languages', 'Keywords', 'cast', 'crew']\n",
    "\n",
    "def str_to_dict(df):\n",
    "    for column in dict_columns:\n",
    "        df[column] = df[column].apply(lambda x: None if pd.isna(x) else ast.literal_eval(x) )\n",
    "    return df\n",
    "\n",
    "df_train = str_to_dict(df_train)\n",
    "df_test = str_to_dict(df_test)"
   ]
  },
  {
   "cell_type": "code",
   "execution_count": 57,
   "metadata": {},
   "outputs": [
    {
     "data": {
      "text/plain": [
       "0    2396\n",
       "1     604\n",
       "Name: belongs_to_collection, dtype: int64"
      ]
     },
     "execution_count": 57,
     "metadata": {},
     "output_type": "execute_result"
    }
   ],
   "source": [
    "df_train['belongs_to_collection'].apply(lambda x: len(x) if x != None else 0).value_counts()"
   ]
  },
  {
   "cell_type": "code",
   "execution_count": 58,
   "metadata": {},
   "outputs": [],
   "source": [
    "df_train['has_collection'] = df_train['belongs_to_collection'].apply(lambda x: len(x) if x != None else 0)\n",
    "df_test['has_collection'] = df_test['belongs_to_collection'].apply(lambda x: len(x) if x != None else 0)"
   ]
  },
  {
   "cell_type": "code",
   "execution_count": 59,
   "metadata": {},
   "outputs": [],
   "source": [
    "df_train['collection_name'] = df_train['belongs_to_collection'].apply(lambda x: x[0]['name'] if x != None else 0)\n",
    "df_test['collection_name'] = df_test['belongs_to_collection'].apply(lambda x: x[0]['name'] if x != None else 0)"
   ]
  },
  {
   "cell_type": "code",
   "execution_count": 60,
   "metadata": {},
   "outputs": [],
   "source": [
    "df_train = df_train.drop(['belongs_to_collection'], axis=1)\n",
    "df_test = df_test.drop(['belongs_to_collection'], axis=1)"
   ]
  },
  {
   "cell_type": "code",
   "execution_count": 61,
   "metadata": {},
   "outputs": [
    {
     "data": {
      "text/plain": [
       "2    972\n",
       "3    900\n",
       "1    593\n",
       "4    393\n",
       "5    111\n",
       "6     21\n",
       "0      7\n",
       "7      3\n",
       "Name: genres, dtype: int64"
      ]
     },
     "execution_count": 61,
     "metadata": {},
     "output_type": "execute_result"
    }
   ],
   "source": [
    "df_train['genres'].apply(lambda x: len(x) if x != None else 0).value_counts()"
   ]
  },
  {
   "cell_type": "code",
   "execution_count": 62,
   "metadata": {},
   "outputs": [],
   "source": [
    "df_train['genres_num'] =  df_train['genres'].apply(lambda x: len(x) if x != None else 0)\n",
    "df_test['genres_num'] =  df_test['genres'].apply(lambda x: len(x) if x != None else 0)"
   ]
  },
  {
   "cell_type": "code",
   "execution_count": 63,
   "metadata": {},
   "outputs": [
    {
     "name": "stdout",
     "output_type": "stream",
     "text": [
      "Counter({'Drama': 1531, 'Comedy': 1028, 'Thriller': 789, 'Action': 741, 'Romance': 571, 'Crime': 469, 'Adventure': 439, 'Horror': 301, 'Science Fiction': 290, 'Family': 260, 'Fantasy': 232, 'Mystery': 225, 'Animation': 141, 'History': 132, 'Music': 100, 'War': 100, 'Documentary': 87, 'Western': 43, 'Foreign': 31, 'TV Movie': 1})\n"
     ]
    }
   ],
   "source": [
    "list_of_genres = list(df_train['genres'].apply(lambda x: [i['name'] for i in x] if x != None else []).values)\n",
    "genres_all = ','.join([i for j in list_of_genres for i in j])\n",
    "list_genres_all = genres_all.split(',')\n",
    "print(collections.Counter(list_genres_all))"
   ]
  },
  {
   "cell_type": "code",
   "execution_count": 64,
   "metadata": {},
   "outputs": [],
   "source": [
    "df_train['all_genres'] = df_train['genres'].apply(lambda x: ' '.join(sorted([i['name'] for i in x])) if x != None else '')\n",
    "df_test['all_genres'] = df_test['genres'].apply(lambda x: ' '.join(sorted([i['name'] for i in x])) if x != None else '')"
   ]
  },
  {
   "cell_type": "code",
   "execution_count": 65,
   "metadata": {},
   "outputs": [],
   "source": [
    "for gen in list_genres_all:\n",
    "    df_train['genre_' + gen] = df_train['all_genres'].apply(lambda x: 1 if gen in x else 0)\n",
    "    df_test['genre_' + gen] = df_test['all_genres'].apply(lambda x: 1 if gen in x else 0)\n",
    "df_train = df_train.drop(['all_genres'],axis=1)\n",
    "df_test = df_test.drop(['all_genres'],axis=1)"
   ]
  },
  {
   "cell_type": "code",
   "execution_count": 66,
   "metadata": {},
   "outputs": [],
   "source": [
    "df_train = df_train.drop(['genres'],axis=1)\n",
    "df_test = df_test.drop(['genres'],axis=1)"
   ]
  },
  {
   "cell_type": "code",
   "execution_count": 67,
   "metadata": {},
   "outputs": [],
   "source": [
    "df_train['has_homepage'] = 0\n",
    "df_test['has_homepage'] = 0\n",
    "df_train.loc[df_train['homepage'].isnull() == False, 'has_homepage'] = 1\n",
    "df_test.loc[df_test['homepage'].isnull() == False, 'has_homepage'] = 1\n",
    "df_train = df_train.drop(['homepage'],axis=1)\n",
    "df_test = df_test.drop(['homepage'],axis=1)"
   ]
  },
  {
   "cell_type": "code",
   "execution_count": 68,
   "metadata": {},
   "outputs": [],
   "source": [
    "df_train = df_train.drop(['imdb_id'],axis=1)\n",
    "df_test = df_test.drop(['imdb_id'],axis=1)"
   ]
  },
  {
   "cell_type": "code",
   "execution_count": 69,
   "metadata": {},
   "outputs": [],
   "source": [
    "list_top10_original_lang = list(collections.Counter(df_train['original_language']).most_common(10))\n",
    "for lang in list_top10_original_lang:\n",
    "    df_train['original_language_' + lang[0]] = df_train['original_language'].apply(lambda x: 1 if lang[0] in x else 0)\n",
    "    df_test['original_language_' + lang[0]] = df_test['original_language'].apply(lambda x: 1 if lang[0] in x else 0)"
   ]
  },
  {
   "cell_type": "code",
   "execution_count": 70,
   "metadata": {},
   "outputs": [],
   "source": [
    "df_train = df_train.drop(['original_language'],axis=1)\n",
    "df_test = df_test.drop(['original_language'],axis=1)"
   ]
  },
  {
   "cell_type": "code",
   "execution_count": 71,
   "metadata": {},
   "outputs": [],
   "source": [
    "df_train = df_train.drop(['original_title'],axis=1)\n",
    "df_test = df_test.drop(['original_title'],axis=1)"
   ]
  },
  {
   "cell_type": "code",
   "execution_count": 72,
   "metadata": {},
   "outputs": [],
   "source": [
    "df_train = df_train.drop(['overview'],axis=1)\n",
    "df_test = df_test.drop(['overview'],axis=1)"
   ]
  },
  {
   "cell_type": "code",
   "execution_count": 73,
   "metadata": {},
   "outputs": [],
   "source": [
    "df_train = df_train.drop(['poster_path'],axis=1)\n",
    "df_test = df_test.drop(['poster_path'],axis=1)"
   ]
  },
  {
   "cell_type": "code",
   "execution_count": 74,
   "metadata": {},
   "outputs": [],
   "source": [
    "df_train['production_companies_num'] =  df_train['production_companies'].apply(lambda x: len(x) if x != None else 0)\n",
    "df_test['production_companies_num'] =  df_test['production_companies'].apply(lambda x: len(x) if x != None else 0)"
   ]
  },
  {
   "cell_type": "code",
   "execution_count": 75,
   "metadata": {},
   "outputs": [],
   "source": [
    "list_of_production_companies = list(df_train['production_companies'].apply(lambda x: [i['name'] for i in x] if x != None else []).values)\n",
    "production_companies_all = ','.join([i for j in list_of_production_companies for i in j])\n",
    "list_production_companies_all = production_companies_all.split(',')\n",
    "list_top15_production_companies = collections.Counter(list_production_companies_all).most_common(15)\n",
    "\n",
    "df_train['all_production_companies'] = df_train['production_companies'].apply(lambda x: ' '.join(sorted([i['name'] for i in x])) if x != None else '')\n",
    "df_test['all_production_companies'] = df_test['production_companies'].apply(lambda x: ' '.join(sorted([i['name'] for i in x])) if x != None else '')"
   ]
  },
  {
   "cell_type": "code",
   "execution_count": 76,
   "metadata": {},
   "outputs": [],
   "source": [
    "for company in list_top15_production_companies:\n",
    "    df_train['production_companies_' + company[0]] = df_train['all_production_companies'].apply(lambda x: 1 if company[0] in x else 0)\n",
    "    df_test['production_companies_' + company[0]] = df_test['all_production_companies'].apply(lambda x: 1 if company[0] in x else 0)"
   ]
  },
  {
   "cell_type": "code",
   "execution_count": 77,
   "metadata": {},
   "outputs": [],
   "source": [
    "df_train['production_countries_num'] =  df_train['production_countries'].apply(lambda x: len(x) if x != None else 0)\n",
    "df_test['production_countries_num'] =  df_test['production_countries'].apply(lambda x: len(x) if x != None else 0)"
   ]
  },
  {
   "cell_type": "code",
   "execution_count": 78,
   "metadata": {},
   "outputs": [],
   "source": [
    "list_of_production_countries = list(df_train['production_countries'].apply(lambda x: [i['name'] for i in x] if x != None else []).values)\n",
    "production_countries_all = ','.join([i for j in list_of_production_countries for i in j])\n",
    "list_production_countries_all = production_countries_all.split(',')\n",
    "list_top20_production_countries = collections.Counter(list_production_countries_all).most_common(20)\n",
    "\n",
    "df_train['all_production_countries'] = df_train['production_countries'].apply(lambda x: ' '.join(sorted([i['name'] for i in x])) if x != None else '')\n",
    "df_test['all_production_countries'] = df_test['production_countries'].apply(lambda x: ' '.join(sorted([i['name'] for i in x])) if x != None else '')"
   ]
  },
  {
   "cell_type": "code",
   "execution_count": 79,
   "metadata": {},
   "outputs": [],
   "source": [
    "for country in list_top20_production_countries:\n",
    "    df_train['production_country_' + country[0]] = df_train['all_production_countries'].apply(lambda x: 1 if country[0] in x else 0)\n",
    "    df_test['production_country_' + country[0]] = df_test['all_production_countries'].apply(lambda x: 1 if country[0] in x else 0)"
   ]
  },
  {
   "cell_type": "code",
   "execution_count": 80,
   "metadata": {},
   "outputs": [],
   "source": [
    "df_train = df_train.drop(['all_production_countries','all_production_companies','production_companies','production_countries'],axis=1)\n",
    "df_test = df_test.drop(['all_production_countries','all_production_companies','production_companies','production_countries'],axis=1)"
   ]
  },
  {
   "cell_type": "code",
   "execution_count": 81,
   "metadata": {},
   "outputs": [],
   "source": [
    "def chg_date_year(date):\n",
    "    if date.year >= 2020:\n",
    "        # 2020年以降はおかしいので−１００年する\n",
    "        year = date.year - 100\n",
    "    else:\n",
    "        year = date.year\n",
    "    return int(year)"
   ]
  },
  {
   "cell_type": "code",
   "execution_count": 82,
   "metadata": {},
   "outputs": [],
   "source": [
    "df_test.loc[df_test['release_date'].isnull() == True, 'release_date'] = '01/05/00'\n",
    "df_train['release_date'] = pd.to_datetime(df_train['release_date'])\n",
    "df_test['release_date'] = pd.to_datetime(df_test['release_date'])\n",
    "df_train['release_date_year'] = df_train['release_date'].apply(lambda x: chg_date_year(x))\n",
    "df_test['release_date_year'] = df_test['release_date'].apply(lambda x: chg_date_year(x))"
   ]
  },
  {
   "cell_type": "code",
   "execution_count": 83,
   "metadata": {},
   "outputs": [],
   "source": [
    "df_train['release_date_month'] = df_train['release_date'].apply(lambda x: x.month)\n",
    "df_test['release_date_month'] = df_test['release_date'].apply(lambda x: x.month)"
   ]
  },
  {
   "cell_type": "code",
   "execution_count": 84,
   "metadata": {},
   "outputs": [],
   "source": [
    "df_train['runtime'] = df_train['runtime'].fillna(df_train['runtime'].mean())\n",
    "df_test['runtime'] = df_test['runtime'].fillna(df_test['runtime'].mean())"
   ]
  },
  {
   "cell_type": "code",
   "execution_count": 85,
   "metadata": {},
   "outputs": [],
   "source": [
    "df_train['spoken_languages_num'] =  df_train['spoken_languages'].apply(lambda x: len(x) if x != None else 0)\n",
    "df_test['spoken_languages_num'] =  df_test['spoken_languages'].apply(lambda x: len(x) if x != None else 0)"
   ]
  },
  {
   "cell_type": "code",
   "execution_count": 86,
   "metadata": {},
   "outputs": [],
   "source": [
    "list_of_spoken_languages = list(df_train['spoken_languages'].apply(lambda x: [i['name'] for i in x] if x != None else []).values)\n",
    "spoken_languages_all = ','.join([i for j in list_of_spoken_languages for i in j])\n",
    "list_all_spoken_languages = spoken_languages_all.split(',')\n",
    "list_top20_spoken_languages = collections.Counter(list_all_spoken_languages).most_common(20)\n",
    "df_train['all_spoken_languages'] = df_train['spoken_languages'].apply(lambda x: ' '.join(sorted([i['name'] for i in x])) if x != None else '')\n",
    "df_test['all_spoken_languages'] = df_test['spoken_languages'].apply(lambda x: ' '.join(sorted([i['name'] for i in x])) if x != None else '')\n",
    "\n",
    "for lang in list_top20_spoken_languages:\n",
    "    df_train['spoken_languages_' + lang[0]] = df_train['all_spoken_languages'].apply(lambda x: 1 if lang[0] in x else 0)\n",
    "    df_test['spoken_languages_' + lang[0]] = df_test['all_spoken_languages'].apply(lambda x: 1 if lang[0] in x else 0)\n",
    "df_train = df_train.drop(['all_spoken_languages'],axis=1)\n",
    "df_test = df_test.drop(['all_spoken_languages'],axis=1)"
   ]
  },
  {
   "cell_type": "code",
   "execution_count": 87,
   "metadata": {},
   "outputs": [],
   "source": [
    "df_train = df_train.drop(['spoken_languages'],axis=1)\n",
    "df_test = df_test.drop(['spoken_languages'],axis=1)"
   ]
  },
  {
   "cell_type": "code",
   "execution_count": 88,
   "metadata": {},
   "outputs": [],
   "source": [
    "df_train = df_train.drop(['release_date'],axis=1)\n",
    "df_test = df_test.drop(['release_date'],axis=1)"
   ]
  },
  {
   "cell_type": "code",
   "execution_count": 89,
   "metadata": {},
   "outputs": [],
   "source": [
    "df_train = df_train.drop(['status'],axis=1)\n",
    "df_test = df_test.drop(['status'],axis=1)"
   ]
  },
  {
   "cell_type": "code",
   "execution_count": 90,
   "metadata": {},
   "outputs": [],
   "source": [
    "df_train = df_train.drop(['tagline'],axis=1)\n",
    "df_test = df_test.drop(['tagline'],axis=1)"
   ]
  },
  {
   "cell_type": "code",
   "execution_count": 91,
   "metadata": {},
   "outputs": [],
   "source": [
    "df_train = df_train.drop(['title'],axis=1)\n",
    "df_test = df_test.drop(['title'],axis=1)"
   ]
  },
  {
   "cell_type": "code",
   "execution_count": 92,
   "metadata": {},
   "outputs": [],
   "source": [
    "df_train['Keywords_num'] = df_train['Keywords'].apply(lambda x: len(x) if x != None else 0)\n",
    "df_test['Keywords_num'] = df_test['Keywords'].apply(lambda x: len(x) if x != None else 0)"
   ]
  },
  {
   "cell_type": "code",
   "execution_count": 93,
   "metadata": {},
   "outputs": [],
   "source": [
    "list_of_Keywords = list(df_train['Keywords'].apply(lambda x: [i['name'] for i in x] if x != None else []).values)\n",
    "Keywords_all = ','.join([i for j in list_of_Keywords for i in j])\n",
    "list_Keywords_all = Keywords_all.split(',')\n",
    "list_top30_Keywords = collections.Counter(list_Keywords_all).most_common(30)\n",
    "\n",
    "df_train['all_Keywords'] = df_train['Keywords'].apply(lambda x: ' '.join(sorted([i['name'] for i in x])) if x != None else '')\n",
    "df_test['all_Keywords'] = df_test['Keywords'].apply(lambda x: ' '.join(sorted([i['name'] for i in x])) if x != None else '')\n",
    "\n",
    "for Keyword in list_top30_Keywords:\n",
    "    df_train['Keywords_' + Keyword[0]] = df_train['all_Keywords'].apply(lambda x: 1 if Keyword[0] in x else 0)\n",
    "    df_test['Keywords_' + Keyword[0]] = df_test['all_Keywords'].apply(lambda x: 1 if Keyword[0] in x else 0)\n",
    "df_train = df_train.drop(['all_Keywords'],axis=1)\n",
    "df_test = df_test.drop(['all_Keywords'],axis=1)"
   ]
  },
  {
   "cell_type": "code",
   "execution_count": 94,
   "metadata": {},
   "outputs": [],
   "source": [
    "df_train = df_train.drop(['Keywords'],axis=1)\n",
    "df_test = df_test.drop(['Keywords'],axis=1)"
   ]
  },
  {
   "cell_type": "code",
   "execution_count": 95,
   "metadata": {},
   "outputs": [],
   "source": [
    "df_train['cast_num'] = df_train['cast'].apply(lambda x: len(x) if x != None else 0)\n",
    "df_test['cast_num'] = df_test['cast'].apply(lambda x: len(x) if x != None else 0)"
   ]
  },
  {
   "cell_type": "code",
   "execution_count": 96,
   "metadata": {},
   "outputs": [],
   "source": [
    "list_of_cast = list(df_train['cast'].apply(lambda x: [i['name'] for i in x] if x != None else []).values)\n",
    "cast_all = ','.join([i for j in list_of_cast for i in j])\n",
    "list_cast_all = cast_all.split(',')\n",
    "list_top30_cast = collections.Counter(list_cast_all).most_common(31)[1:31]\n",
    "df_train['all_cast'] = df_train['cast'].apply(lambda x: ' '.join(sorted([i['name'] for i in x])) if x != None else '')\n",
    "df_test['all_cast'] = df_test['cast'].apply(lambda x: ' '.join(sorted([i['name'] for i in x])) if x != None else '')\n",
    "\n",
    "for cast in list_top30_cast:\n",
    "    df_train['cast_' + cast[0]] = df_train['all_cast'].apply(lambda x: 1 if cast[0] in x else 0)\n",
    "    df_test['cast_' + cast[0]] = df_test['all_cast'].apply(lambda x: 1 if cast[0] in x else 0)\n",
    "df_train = df_train.drop(['all_cast'],axis=1)\n",
    "df_test = df_test.drop(['all_cast'],axis=1)"
   ]
  },
  {
   "cell_type": "code",
   "execution_count": 97,
   "metadata": {},
   "outputs": [],
   "source": [
    "df_train = df_train.drop(['cast'],axis=1)\n",
    "df_test = df_test.drop(['cast'],axis=1)"
   ]
  },
  {
   "cell_type": "code",
   "execution_count": 98,
   "metadata": {},
   "outputs": [],
   "source": [
    "list_of_crew = list(df_train['crew'].apply(lambda x: [i['name'] for i in x] if x != None else []).values)\n",
    "crew_all = ','.join([i for j in list_of_crew for i in j])\n",
    "list_crew_all = crew_all.split(',')\n",
    "list_top15_crew = collections.Counter(list_crew_all).most_common(15)\n",
    "df_train['all_crew'] = df_train['crew'].apply(lambda x: ' '.join(sorted([i['name'] for i in x])) if x != None else '')\n",
    "df_test['all_crew'] = df_test['crew'].apply(lambda x: ' '.join(sorted([i['name'] for i in x])) if x != None else '')\n",
    "\n",
    "for crew in list_top15_crew:\n",
    "    df_train['crew_' + crew[0]] = df_train['all_crew'].apply(lambda x: 1 if crew[0] in x else 0)\n",
    "    df_test['crew_' + crew[0]] = df_test['all_crew'].apply(lambda x: 1 if crew[0] in x else 0)\n",
    "df_train = df_train.drop(['all_crew'],axis=1)\n",
    "df_test = df_test.drop(['all_crew'],axis=1)"
   ]
  },
  {
   "cell_type": "code",
   "execution_count": 99,
   "metadata": {},
   "outputs": [],
   "source": [
    "df_train = df_train.drop(['crew'],axis=1)\n",
    "df_test = df_test.drop(['crew'],axis=1)"
   ]
  },
  {
   "cell_type": "code",
   "execution_count": 100,
   "metadata": {},
   "outputs": [],
   "source": [
    "le = LabelEncoder()\n",
    "le.fit(list(df_train['collection_name'].fillna('')) + list(df_test['collection_name'].fillna('')))\n",
    "df_train['collection_name'] = le.transform(df_train['collection_name'].fillna('').astype(str))\n",
    "df_test['collection_name'] = le.transform(df_test['collection_name'].fillna('').astype(str))"
   ]
  },
  {
   "cell_type": "code",
   "execution_count": 101,
   "metadata": {},
   "outputs": [],
   "source": [
    "df_train['log_revenue'] = np.log1p(df_train['revenue'])"
   ]
  },
  {
   "cell_type": "code",
   "execution_count": 102,
   "metadata": {},
   "outputs": [],
   "source": [
    "df_train['log_budget'] = np.log1p(df_train['budget'])\n",
    "df_test['log_budget'] = np.log1p(df_test['budget'])"
   ]
  },
  {
   "cell_type": "code",
   "execution_count": 104,
   "metadata": {},
   "outputs": [],
   "source": [
    "X = df_train.drop(['id','revenue','log_revenue'],axis=1)\n",
    "y = df_train['log_revenue']\n",
    "X_test = df_test.drop(['id'],axis=1)"
   ]
  },
  {
   "cell_type": "code",
   "execution_count": 105,
   "metadata": {},
   "outputs": [],
   "source": [
    "X_train, X_valid, y_train, y_valid = train_test_split(X, y, test_size=0.3)"
   ]
  },
  {
   "cell_type": "code",
   "execution_count": 106,
   "metadata": {},
   "outputs": [],
   "source": [
    "n_fold = 5\n",
    "folds = KFold(n_splits=n_fold, shuffle=True, random_state=12)"
   ]
  },
  {
   "cell_type": "code",
   "execution_count": 108,
   "metadata": {},
   "outputs": [
    {
     "name": "stdout",
     "output_type": "stream",
     "text": [
      "Training until validation scores don't improve for 200 rounds.\n",
      "[1000]\ttraining's rmse: 1.53929\tvalid_1's rmse: 2.02078\n",
      "Early stopping, best iteration is:\n",
      "[1609]\ttraining's rmse: 1.37971\tvalid_1's rmse: 2.01734\n"
     ]
    }
   ],
   "source": [
    "lgb_params = {'num_leaves': 30,\n",
    "         'min_data_in_leaf': 20,\n",
    "         'objective': 'regression',\n",
    "         'max_depth': 5,\n",
    "         'learning_rate': 0.01,\n",
    "         \"boosting\": \"gbdt\",\n",
    "         \"feature_fraction\": 0.9,\n",
    "         \"bagging_freq\": 1,\n",
    "         \"bagging_fraction\": 0.9,\n",
    "         \"bagging_seed\": 11,\n",
    "         \"metric\": 'rmse',\n",
    "         \"lambda_l1\": 0.2,\n",
    "         \"verbosity\": -1}\n",
    "scores = []\n",
    "prediction = np.zeros(X_test.shape[0])\n",
    "\n",
    "lgb_model = lgb.LGBMRegressor(**lgb_params, n_estimators = 20000, nthread = 4, n_jobs = -1)\n",
    "lgb_model.fit(X_train, y_train, \n",
    "            eval_set=[(X_train, y_train), (X_valid, y_valid)], eval_metric='rmse',\n",
    "            verbose=1000, early_stopping_rounds=200)\n",
    "            \n",
    "y_pred_valid = lgb_model.predict(X_valid)\n",
    "y_pred = lgb_model.predict(X_test, num_iteration=lgb_model.best_iteration_)"
   ]
  },
  {
   "cell_type": "code",
   "execution_count": 111,
   "metadata": {},
   "outputs": [],
   "source": [
    "sub = pd.read_csv('/Users/zakopuro/Code/python_code/kaggle_TMDB/input/sample_submission.csv')\n",
    "sub['revenue'] = np.expm1(y_pred)\n",
    "sub.to_csv(\"output/lgb2.csv\", index=False)"
   ]
  },
  {
   "cell_type": "code",
   "execution_count": null,
   "metadata": {},
   "outputs": [],
   "source": []
  }
 ],
 "metadata": {
  "jupytext": {
   "text_representation": {
    "extension": ".py",
    "format_name": "light",
    "format_version": "1.4",
    "jupytext_version": "1.1.1"
   }
  },
  "kernelspec": {
   "display_name": "ml_py36",
   "language": "python",
   "name": "ml_py36"
  },
  "language_info": {
   "codemirror_mode": {
    "name": "ipython",
    "version": 3
   },
   "file_extension": ".py",
   "mimetype": "text/x-python",
   "name": "python",
   "nbconvert_exporter": "python",
   "pygments_lexer": "ipython3",
   "version": "3.6.7"
  }
 },
 "nbformat": 4,
 "nbformat_minor": 2
}
